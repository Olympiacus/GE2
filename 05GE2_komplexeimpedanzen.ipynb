{
 "cells": [
  {
   "cell_type": "markdown",
   "metadata": {},
   "source": [
    "# Komplexe Widerstände und Leitwerte"
   ]
  },
  {
   "cell_type": "code",
   "execution_count": 1,
   "metadata": {},
   "outputs": [],
   "source": [
    "# Bibliotheken laden\n",
    "import numpy as np\n",
    "import matplotlib.pyplot as plt\n",
    "import cmath # für komplexe Zahlen\n",
    "# Graphikparameter\n",
    "plt.style.use('classic')\n",
    "plt.rcParams.update({'font.size':24})\n",
    "plt.rcParams.update({'figure.autolayout': True})"
   ]
  },
  {
   "cell_type": "markdown",
   "metadata": {},
   "source": [
    "## Impedanz vs. Admittanz"
   ]
  },
  {
   "cell_type": "markdown",
   "metadata": {},
   "source": [
    "Wir betrachten hier das Wechselstromverhalten von Ohmschen Widerständen, Induktivitäten und Kapazitäten. \n",
    "\n",
    "Allgemein gesprochen spricht man bei Schaltkreisen mit diesen Bauelementen vom **komplexen Widerstand** bzw. von der **Impedanz** $\\underline{Z}$. Der **komplexe Leitwert** heißt auch **Admittanz** $\\underline{Y}$. "
   ]
  },
  {
   "cell_type": "markdown",
   "metadata": {},
   "source": [
    "Die **Impedanz** $\\underline{Z}$ setzt sich zusammen aus Real- und Imaginärteil: \n",
    "- Der **Realteil** heißt **Wirkwiderstand** oder Ohmscher Widerstand oder **Resistanz** $R$. \n",
    "- Der **Imaginärteil** heißt **Blindwiderstand** oder **Reaktanz** $X$. \n",
    "- Der **Betrag** heißt **Scheinwiderstand** $Z$. \n",
    "- Und dann gibt es noch die **Phase** $\\varphi_Z$.\n",
    "\n",
    "Man kann also schreiben: \n",
    "\\begin{equation}\n",
    "\\underline{Z} = R + jX = Z \\cdot e^{j\\varphi_Z}\n",
    "\\end{equation}"
   ]
  },
  {
   "cell_type": "markdown",
   "metadata": {},
   "source": [
    "Die **Admittanz** $\\underline{Y}$ setzt sich ebenfalls zusammen aus Real- und Imaginärteil: \n",
    "- Der **Realteil** heißt **Wirkleitwert** oder Ohmscher Leitwert oder **Konduktanz** $G$. \n",
    "- Der **Imaginärteil** heißt **Blindleitwert** oder **Suszeptanz** $B$. \n",
    "- Der **Betrag** heißt **Scheinleitwert** $Y=1/Z$. \n",
    "- Und dann gibt es noch die **Phase** $\\varphi_Y=-\\varphi_Z$.\n",
    "\n",
    "Man kann also schreiben: \n",
    "\\begin{equation}\n",
    "\\underline{Z} = G + jB = Y \\cdot e^{j\\varphi_Y}\n",
    "\\end{equation}"
   ]
  },
  {
   "cell_type": "markdown",
   "metadata": {},
   "source": [
    "*Vorsicht! Um Impedanz und Admittanz ineinander umzurechnen, reicht es **nicht**, den Kehrwert der Wirkanteile zu nehmen. Man muss den Kehrwert der **komplexen Größe** bilden:*"
   ]
  },
  {
   "cell_type": "markdown",
   "metadata": {},
   "source": [
    "\\begin{equation}\n",
    "\\underline{Z} = \\frac{1}{\\underline{Y}} = \\frac{1}{G+jB} = \\frac{1}{Y\\cdot e^{j\\varphi_Y}}\n",
    "\\end{equation}"
   ]
  },
  {
   "cell_type": "markdown",
   "metadata": {},
   "source": [
    "\\begin{equation}\n",
    "\\underline{Y} = \\frac{1}{\\underline{Z}} = \\frac{1}{R+jX} = \\frac{1}{Z\\cdot e^{j\\varphi_Z}}\n",
    "\\end{equation}"
   ]
  },
  {
   "cell_type": "markdown",
   "metadata": {},
   "source": [
    "Noch ein wichtiger **physikalischer Hinweis**: Ohmsche Widerstände oder Leitwerte können **nicht negativ** werden. Wenn Sie rechnerisch also einen negativen Wert für den Realteil einer Impedanz oder Admittanz erhalten, ist irgendwo ein Rechenfehler in Ihrer Vorgehensweise."
   ]
  },
  {
   "cell_type": "markdown",
   "metadata": {},
   "source": [
    "Einige Beispiele in python: "
   ]
  },
  {
   "cell_type": "code",
   "execution_count": 2,
   "metadata": {},
   "outputs": [
    {
     "name": "stdout",
     "output_type": "stream",
     "text": [
      "Z1:  (6+2j)\n",
      "Y1:  (0.15-0.049999999999999996j)\n"
     ]
    }
   ],
   "source": [
    "# komplexe Impedanz 1\n",
    "Z1 = complex(6,2)\n",
    "Y1 = 1/Z1\n",
    "print('Z1: ', Z1)\n",
    "print('Y1: ', Y1)"
   ]
  },
  {
   "cell_type": "code",
   "execution_count": 3,
   "metadata": {},
   "outputs": [
    {
     "name": "stdout",
     "output_type": "stream",
     "text": [
      "Z2:  (2.5+2.5j)\n",
      "Y2:  (0.2-0.2j)\n"
     ]
    }
   ],
   "source": [
    "# komplexe Admittanz 2\n",
    "Y2 = complex(0.2,-0.2)\n",
    "Z2 = 1/Y2\n",
    "print('Z2: ', Z2)\n",
    "print('Y2: ', Y2)"
   ]
  },
  {
   "cell_type": "markdown",
   "metadata": {},
   "source": [
    "**Aufgabe: Prüfen Sie die beiden Ergebnisse mit Ihrem Taschenrechner nach. Stellen Sie dazu den Taschenrechner in den komplexen Modus um.**"
   ]
  },
  {
   "cell_type": "markdown",
   "metadata": {},
   "source": [
    "*Ergebnis:*"
   ]
  },
  {
   "cell_type": "code",
   "execution_count": 4,
   "metadata": {},
   "outputs": [
    {
     "name": "stdout",
     "output_type": "stream",
     "text": [
      "phiZ1:  0.3217505543966422 rad\n",
      "phiZ1:  18.43494882292201 °\n"
     ]
    }
   ],
   "source": [
    "# Phase der komplexen Impedanz Z1\n",
    "phiZ1 = cmath.phase(Z1)\n",
    "print('phiZ1: ', phiZ1, 'rad')\n",
    "phiZ1g = 180*phiZ1/np.pi\n",
    "print('phiZ1: ', phiZ1g, '°')"
   ]
  },
  {
   "cell_type": "code",
   "execution_count": 5,
   "metadata": {},
   "outputs": [
    {
     "name": "stdout",
     "output_type": "stream",
     "text": [
      "phiY1:  -0.3217505543966422 rad\n",
      "phiY1:  -18.43494882292201 °\n"
     ]
    }
   ],
   "source": [
    "# Phase der zugehörigen komplexen Admittanz Y1\n",
    "phiY1 = cmath.phase(Y1)\n",
    "print('phiY1: ', phiY1, 'rad')\n",
    "phiY1g = 180*phiY1/np.pi\n",
    "print('phiY1: ', phiY1g, '°')"
   ]
  },
  {
   "cell_type": "markdown",
   "metadata": {},
   "source": [
    "**Aufgabe: Ermitteln Sie die Werte für die Admittanz $Y_2$ und deren Kehrwert $Z_2$. Benutzen Sie dafür Ihren Taschenrechner und nutzen Sie python, um Ihre Ergebnisse zu überprüfen.**"
   ]
  },
  {
   "cell_type": "markdown",
   "metadata": {},
   "source": [
    "*Ergebnis:*"
   ]
  },
  {
   "cell_type": "code",
   "execution_count": 6,
   "metadata": {},
   "outputs": [
    {
     "name": "stdout",
     "output_type": "stream",
     "text": [
      "Z1abs:  6.324555320336759\n"
     ]
    }
   ],
   "source": [
    "# Scheinwiderstand der komplexen Impedanz Z1\n",
    "Z1abs = np.abs(Z1)\n",
    "print('Z1abs: ', Z1abs)"
   ]
  },
  {
   "cell_type": "code",
   "execution_count": 7,
   "metadata": {},
   "outputs": [
    {
     "name": "stdout",
     "output_type": "stream",
     "text": [
      "Y1abs:  0.15811388300841897\n"
     ]
    }
   ],
   "source": [
    "# Scheinleitwert der komplexen Admittanz Y1\n",
    "Y1abs = np.abs(Y1)\n",
    "print('Y1abs: ', Y1abs)"
   ]
  },
  {
   "cell_type": "code",
   "execution_count": 8,
   "metadata": {},
   "outputs": [
    {
     "name": "stdout",
     "output_type": "stream",
     "text": [
      "Z1abs:  6.324555320336759\n",
      "Kehrwert Y1abs:  6.324555320336758\n"
     ]
    }
   ],
   "source": [
    "# Überprüfung der Kehrwerte\n",
    "print('Z1abs: ', Z1abs)\n",
    "print('Kehrwert Y1abs: ', 1/Y1abs)"
   ]
  },
  {
   "cell_type": "markdown",
   "metadata": {},
   "source": [
    "**Aufgabe: Berechnen Sie Scheinwiderstand und Scheinleitwert ebenso für $\\underline{Y_2}$ und überprüfen Sie die Kehrwerte.**"
   ]
  },
  {
   "cell_type": "markdown",
   "metadata": {},
   "source": [
    "*Ergebnis:*"
   ]
  },
  {
   "cell_type": "code",
   "execution_count": 9,
   "metadata": {},
   "outputs": [
    {
     "name": "stdout",
     "output_type": "stream",
     "text": [
      "Z1abs:  6.324555320336759\n",
      "phiZ1:  0.3217505543966422  rad\n",
      "phiZ1:  18.43494882292201 °\n"
     ]
    }
   ],
   "source": [
    "# Betrag und Phase in einem Befehl bei Z1\n",
    "Z1absb, phiZ1b = cmath.polar(Z1)\n",
    "print('Z1abs: ', Z1absb)\n",
    "print('phiZ1: ', phiZ1b, ' rad')\n",
    "print('phiZ1: ', 180*phiZ1b/np.pi, '°')"
   ]
  },
  {
   "cell_type": "code",
   "execution_count": 10,
   "metadata": {},
   "outputs": [
    {
     "name": "stdout",
     "output_type": "stream",
     "text": [
      "Y1abs:  0.15811388300841897\n",
      "phiY1:  -0.3217505543966422  rad\n",
      "phiY1:  -18.43494882292201 °\n"
     ]
    }
   ],
   "source": [
    "# Betrag und Phase in einem Befehl bei Y1\n",
    "Y1absb, phiY1b = cmath.polar(Y1)\n",
    "print('Y1abs: ', Y1absb)\n",
    "print('phiY1: ', phiY1b, ' rad')\n",
    "print('phiY1: ', 180*phiY1b/np.pi, '°')"
   ]
  },
  {
   "cell_type": "markdown",
   "metadata": {},
   "source": [
    "**Aufgabe: Finden Sie heraus, wie man im Taschenrechner gut zwischen Polar- und Normalform einer komplexen Zahl umrechnen kann und überprüfen Sie Ihr Ergebnis mit der Admittanz $Y_2$ in python.**"
   ]
  },
  {
   "cell_type": "markdown",
   "metadata": {},
   "source": [
    "*Ergebnis:*"
   ]
  },
  {
   "cell_type": "markdown",
   "metadata": {},
   "source": [
    "weitere Funktionen für komplexe Zahlen in python finden Sie in der Hilfe: https://docs.python.org/3.7/library/cmath.html"
   ]
  },
  {
   "cell_type": "markdown",
   "metadata": {},
   "source": [
    "## Impedanz und Admittanz eines idealen Kondensators"
   ]
  },
  {
   "cell_type": "markdown",
   "metadata": {},
   "source": [
    "**Strom eilt um $\\pi/2$ vor:** \n",
    "\\begin{equation}\n",
    "\\varphi_Z = \\varphi_u - \\varphi_i = -\\pi/2\n",
    "\\end{equation}\n",
    "\n",
    "**Impedanz des idealen Kondensators:**\n",
    "\\begin{equation}\n",
    "\\underline{Z_C} = \\frac{1}{j\\omega C} = \\frac{1}{j 2\\pi f C} = -j\\cdot\\frac{1}{\\omega C} = j X_C\n",
    "\\end{equation}\n",
    "\n",
    "**Der Wirkwiderstand eines idealen Kondensators ist $0$. Die Reaktanz $X_C$ ist gleich dem Scheinwiderstand $-Z_C = X_C$.**\n",
    "\n",
    "**Admittanz des idealen Kondensators:**\n",
    "\\begin{equation}\n",
    "\\underline{Y_C} = j\\omega C = j 2\\pi f C = j \\cdot B_C\n",
    "\\end{equation}\n",
    "\n",
    "**Der Wirkleitwert eines idealen Kondensators ist $0$. Die Suszeptanz $B_C$ ist gleich dem Scheinleitwert  $Y_C = B_C$.**"
   ]
  },
  {
   "cell_type": "code",
   "execution_count": 12,
   "metadata": {},
   "outputs": [
    {
     "name": "stdout",
     "output_type": "stream",
     "text": [
      "Z3: -26.525823848649225j Ohm\n",
      "phiZ3: -1.5707963267948966 rad\n",
      "phiZ3g:  -90.0 °\n"
     ]
    }
   ],
   "source": [
    "# Beispiel für einen Kondensator mit Impedanz Z3\n",
    "C = 2e-6 # 6 µF\n",
    "f = 3e3 # 3 kHz\n",
    "Z3 = complex(0,-1/(2*np.pi*f*C))\n",
    "print('Z3:', Z3, 'Ohm')\n",
    "phiZ3 = cmath.phase(Z3)\n",
    "print('phiZ3:', phiZ3, 'rad')\n",
    "print('phiZ3g: ', 180*phiZ3/np.pi, '°')"
   ]
  },
  {
   "cell_type": "markdown",
   "metadata": {},
   "source": [
    "**Aufgabe: Ermitteln Sie die Admittanz Y3 aus dem Bauelementwert $C$, der Frequenz $f$ und vergleichen Sie den Kehrwert mit dem obigen Ergebnis. Üben Sie zunächst mit dem Taschenrechner und nutzen Sie python zur Überprüfung.**"
   ]
  },
  {
   "cell_type": "markdown",
   "metadata": {},
   "source": [
    "*Ergebnis:*"
   ]
  },
  {
   "cell_type": "markdown",
   "metadata": {},
   "source": [
    "## Impedanz und Admittanz einer idealen Induktivität"
   ]
  },
  {
   "cell_type": "markdown",
   "metadata": {},
   "source": [
    "**Strom eilt um $\\pi/2$ nach:** \n",
    "\\begin{equation}\n",
    "\\varphi_Z = \\varphi_u - \\varphi_i = \\pi/2\n",
    "\\end{equation}\n",
    "\n",
    "**Impedanz des idealen Kondensators:**\n",
    "\\begin{equation}\n",
    "\\underline{Z_L} = j\\omega L = j2\\pi f L = j X_L\n",
    "\\end{equation}\n",
    "\n",
    "**Der Wirkwiderstand einer idealen Induktivität ist $0$. Die Reaktanz $X_L$ ist gleich dem Scheinwiderstand $Z_L = X_L$.**\n",
    "\n",
    "**Admittanz der idealen Induktivität:**\n",
    "\\begin{equation}\n",
    "\\underline{Y_L} = \\frac{1}{j\\omega L} = \\frac{1}{j 2\\pi f L} = -j \\frac{1}{2 \\pi f L} = j\\cdot B_L\n",
    "\\end{equation}\n",
    "\n",
    "**Der Wirkleitwert eines idealen Kondensators ist $0$. Die Suszeptanz $B_L$ ist gleich dem Scheinleitwert multipliziert mit minus 1 $Y_L = -B_L$.**"
   ]
  },
  {
   "cell_type": "code",
   "execution_count": 13,
   "metadata": {},
   "outputs": [
    {
     "name": "stdout",
     "output_type": "stream",
     "text": [
      "Z4: 0.0942477796076938j Ohm\n",
      "phiZ4: 1.5707963267948966 rad\n",
      "phiZ4g:  90.0 °\n"
     ]
    }
   ],
   "source": [
    "# Beispiel für eine Induktivität mit Impedanz Z4\n",
    "L = 5e-6 # 5 µH\n",
    "Z4 = complex(0,2*np.pi*f*L)\n",
    "print('Z4:', Z4, 'Ohm')\n",
    "phiZ4 = cmath.phase(Z4)\n",
    "print('phiZ4:', phiZ4, 'rad')\n",
    "print('phiZ4g: ', 180*phiZ4/np.pi, '°')"
   ]
  },
  {
   "cell_type": "markdown",
   "metadata": {},
   "source": [
    "**Aufgabe: Ermitteln Sie die Admittanz Y4 aus dem Bauelementwert $L$, der Frequenz $f$ und vergleichen Sie den Kehrwert mit dem obigen Ergebnis. Üben Sie zunächst mit dem Taschenrechner und nutzen Sie python zur Überprüfung.**"
   ]
  },
  {
   "cell_type": "markdown",
   "metadata": {},
   "source": [
    "*Ergebnis:*"
   ]
  },
  {
   "cell_type": "markdown",
   "metadata": {},
   "source": [
    "## Serienschaltung zweier Impedanzen oder Admittanzen"
   ]
  },
  {
   "cell_type": "code",
   "execution_count": 14,
   "metadata": {},
   "outputs": [
    {
     "name": "stdout",
     "output_type": "stream",
     "text": [
      "Z12: (8.5+4.5j) Ohm\n",
      "Z12 polar: (9.617692030835672, 0.48689923181126904) Ohm\n"
     ]
    }
   ],
   "source": [
    "# Z1 und Z2 in Serie\n",
    "Z12 = Z1+Z2\n",
    "print('Z12:', Z12, 'Ohm')\n",
    "print('Z12 polar:', cmath.polar(Z12),'Ohm')"
   ]
  },
  {
   "cell_type": "code",
   "execution_count": 15,
   "metadata": {},
   "outputs": [
    {
     "data": {
      "image/png": "[encoded data removed]",
      "text/plain": [
       "<Figure size 576x288 with 3 Axes>"
      ]
     },
     "metadata": {
      "needs_background": "light"
     },
     "output_type": "display_data"
    }
   ],
   "source": [
    "# Zeigerdiagramme von Z1, Z2 und Z12\n",
    "# - wir machen 3 Diagramme nebeneinander\n",
    "fig, ax = plt.subplots(1, 3, sharex=True, sharey=True, figsize=(8, 4))\n",
    "# linkes Diagramm \n",
    "ax[0].set_aspect('equal', adjustable='box') # Skalierung x wie y\n",
    "ax[0].axis([-np.abs(Z12),np.abs(Z12),-np.abs(Z12),np.abs(Z12)])\n",
    "ax[0].set_xlabel(r'$R_{1}$ [$\\Omega$]',color='blue') # x-Achsentitel\n",
    "ax[0].set_ylabel(r'$X$ [$\\Omega$]') # y-Achsentitel\n",
    "ax[0].annotate('', xytext = (0, 0),xy = (Z1.real, Z1.imag),\n",
    "             arrowprops = {'facecolor' : 'blue', \n",
    "                           'edgecolor' : 'blue', \n",
    "                           'linewidth' : .001}) # Zeiger Z1\n",
    "ax[0].grid() # Gitternetzlinien\n",
    "# mittleres Diagramm: Z2\n",
    "ax[1].set_aspect('equal', adjustable='box') # Skalierung x wie y\n",
    "ax[1].set_xlabel(r'$R_{2}$ [$\\Omega$]',color='green') # x-Achsentitel\n",
    "ax[1].annotate('', xytext = (0, 0),xy = (Z2.real, Z2.imag),\n",
    "             arrowprops = {'facecolor' : 'green', \n",
    "                           'edgecolor' : 'green', \n",
    "                           'linewidth' : .001}) # Zeiger Z2\n",
    "ax[1].grid() # Gitternetzlinien\n",
    "# rechtes Diagramm: Z1+Z2\n",
    "ax[2].set_aspect('equal', adjustable='box') # Skalierung x wie y\n",
    "ax[2].set_xlabel(r'$R_{12}$ [$\\Omega$]',color='red') # x-Achsentitel\n",
    "ax[2].annotate('', xytext = (0, 0),xy = (Z1.real, Z1.imag),\n",
    "             arrowprops = {'facecolor' : 'blue', \n",
    "                           'edgecolor' : 'blue', \n",
    "                           'linewidth' : .001}) # Zeiger Z1\n",
    "ax[2].annotate('', xytext = (Z1.real, Z1.imag),xy = (Z1.real+Z2.real, Z1.imag+Z2.imag),\n",
    "             arrowprops = {'facecolor' : 'green', \n",
    "                           'edgecolor' : 'green', \n",
    "                           'linewidth' : .001}) # Zeiger Z2\n",
    "ax[2].annotate('', xytext = (0, 0),xy = (Z12.real, Z12.imag),\n",
    "             arrowprops = {'facecolor' : 'red', \n",
    "                           'edgecolor' : 'red', \n",
    "                           'linewidth' : .001}) # Zeiger Z12\n",
    "ax[2].grid() # Gitternetzlinien"
   ]
  },
  {
   "cell_type": "markdown",
   "metadata": {},
   "source": [
    "**Aufgabe: Ermitteln Sie ebenfalls die Impedanzen der folgenden Serienschaltungen und tragen Sie die Werte in der Tabelle (Doppelklick in Zelle -> bearbeiten *Wert* ) ein. Rechnen Sie zuerst mit dem Taschenrechner. Überprüfen Sie dann mit einem Zeigerdiagramm auf Papier und nutzen Sie python erst am Schluss, um sowohl Ihre Taschenrechner-Rechnung als auch Ihre Zeigerdiagramme zu überprüfen.**"
   ]
  },
  {
   "cell_type": "markdown",
   "metadata": {},
   "source": [
    "| $Z_{1}$ in Serie mit $Z_2$ | $Z_{12}$ | *Wert* |\n",
    "|----------------------------|----------|--------|\n",
    "| $Z_{1}$ in Serie mit $Z_3$ | $Z_{13}$ | *Wert* |\n",
    "| $Z_{1}$ in Serie mit $Z_4$ | $Z_{14}$ | *Wert* |\n",
    "| $Z_{2}$ in Serie mit $Z_3$ | $Z_{23}$ | *Wert* |\n",
    "| $Z_{2}$ in Serie mit $Z_4$ | $Z_{24}$ | *Wert* |\n",
    "| $Z_{3}$ in Serie mit $Z_4$ | $Z_{34}$ | *Wert* |"
   ]
  },
  {
   "cell_type": "markdown",
   "metadata": {},
   "source": [
    "*Kommentar:*"
   ]
  },
  {
   "cell_type": "code",
   "execution_count": 16,
   "metadata": {},
   "outputs": [
    {
     "name": "stdout",
     "output_type": "stream",
     "text": [
      "Y12: (0.09189189189189188-0.048648648648648644j) S\n"
     ]
    }
   ],
   "source": [
    "# Admittanz\n",
    "Y12 = 1/Z12\n",
    "print('Y12:', Y12, 'S') # S steht für Siemens"
   ]
  },
  {
   "cell_type": "code",
   "execution_count": 17,
   "metadata": {},
   "outputs": [
    {
     "data": {
      "image/png": "[encoded data removed]",
      "text/plain": [
       "<Figure size 576x288 with 3 Axes>"
      ]
     },
     "metadata": {
      "needs_background": "light"
     },
     "output_type": "display_data"
    }
   ],
   "source": [
    "# Zeigerdiagramme von Y1, Y2 und Y12\n",
    "# - wir machen 3 Diagramme nebeneinander\n",
    "fig, ax = plt.subplots(1, 3, sharex=False, sharey=False, figsize=(8, 4))\n",
    "# linkes Diagramm \n",
    "ax[0].set_aspect('equal', adjustable='box') # Skalierung x wie y\n",
    "ax[0].axis([-np.abs(Y1),np.abs(Y1),-np.abs(Y1),np.abs(Y1)])\n",
    "ax[0].set_xlabel(r'$G_{1}$ [S]',color='blue') # x-Achsentitel\n",
    "ax[0].set_ylabel(r'$B_1$ [S]', color='blue') # y-Achsentitel\n",
    "ax[0].annotate('', xytext = (0, 0),xy = (Y1.real, Y1.imag),\n",
    "             arrowprops = {'facecolor' : 'blue', \n",
    "                           'edgecolor' : 'blue', \n",
    "                           'linewidth' : .001}) # Zeiger Y1\n",
    "ax[0].grid() # Gitternetzlinien\n",
    "# mittleres Diagramm: Y2\n",
    "ax[1].set_aspect('equal', adjustable='box') # Skalierung x wie y\n",
    "ax[1].axis([-np.abs(Y2),np.abs(Y2),-np.abs(Y2),np.abs(Y2)])\n",
    "ax[1].set_xlabel(r'$G_{2}$ [S]',color='green') # x-Achsentitel\n",
    "ax[1].set_ylabel(r'$B_2$ [S]',color='green') # y-Achsentitel\n",
    "ax[1].annotate('', xytext = (0, 0),xy = (Y2.real, Y2.imag),\n",
    "             arrowprops = {'facecolor' : 'green', \n",
    "                           'edgecolor' : 'green', \n",
    "                           'linewidth' : .001}) # Zeiger Y2\n",
    "ax[1].grid() # Gitternetzlinien\n",
    "# rechtes Diagramm: Y12\n",
    "ax[2].set_aspect('equal', adjustable='box') # Skalierung x wie y\n",
    "ax[2].axis([-np.abs(Y12),np.abs(Y12),-np.abs(Y12),np.abs(Y12)])\n",
    "ax[2].set_xlabel(r'$G_{12}$ [S]',color='red') # x-Achsentitel\n",
    "ax[2].set_ylabel(r'$B_{12}$ [S]',color='red') # y-Achsentitel\n",
    "ax[2].annotate('', xytext = (0, 0),xy = (Y1.real, Y1.imag),\n",
    "             arrowprops = {'facecolor' : 'blue', \n",
    "                           'edgecolor' : 'blue', \n",
    "                           'linewidth' : .001}) # Zeiger Y1\n",
    "ax[2].annotate('', xytext = (Y1.real, Y1.imag),xy = (Y1.real+Y2.real, Y1.imag+Y2.imag),\n",
    "             arrowprops = {'facecolor' : 'green', \n",
    "                           'edgecolor' : 'green', \n",
    "                           'linewidth' : .001}) # Zeiger Y2\n",
    "ax[2].annotate('', xytext = (0, 0),xy = (Y12.real, Y12.imag),\n",
    "             arrowprops = {'facecolor' : 'red', \n",
    "                           'edgecolor' : 'red', \n",
    "                           'linewidth' : .001}) # Zeiger Y12\n",
    "ax[2].grid() # Gitternetzlinien"
   ]
  },
  {
   "cell_type": "markdown",
   "metadata": {},
   "source": [
    "**Aufgabe: Warum kann man die Gesamtadmittanz $Y_{12}$ nicht durch Addieren der Einzeladmittanzen erhalten?**"
   ]
  },
  {
   "cell_type": "markdown",
   "metadata": {},
   "source": [
    "*Antwort:*"
   ]
  },
  {
   "cell_type": "markdown",
   "metadata": {},
   "source": [
    "**Aufgabe: Ermitteln Sie ebenfalls die Admittanzen der folgenden Serienschaltungen und tragen Sie die Werte in der Tabelle (Doppelklick in Zelle -> bearbeiten *Wert* ) ein. Rechnen Sie zuerst mit dem Taschenrechner. Nutzen Sie python dann, um Ihre Taschenrechner-Rechnung zu überprüfen.**"
   ]
  },
  {
   "cell_type": "markdown",
   "metadata": {},
   "source": [
    "| $Y_{1}$ in Serie mit $Y_2$ | $Y_{12}$ | *Wert* |\n",
    "|----------------------------|----------|--------|\n",
    "| $Y_{1}$ in Serie mit $Y_3$ | $Y_{13}$ | *Wert* |\n",
    "| $Y_{1}$ in Serie mit $Y_4$ | $Y_{14}$ | *Wert* |\n",
    "| $Y_{2}$ in Serie mit $Y_3$ | $Y_{23}$ | *Wert* |\n",
    "| $Y_{2}$ in Serie mit $Y_4$ | $Y_{24}$ | *Wert* |\n",
    "| $Y_{3}$ in Serie mit $Y_4$ | $Y_{34}$ | *Wert* |"
   ]
  },
  {
   "cell_type": "markdown",
   "metadata": {},
   "source": [
    "*Kommentar:*"
   ]
  },
  {
   "cell_type": "markdown",
   "metadata": {},
   "source": [
    "## Parallelschaltung zweier Impedanzen oder Admittanzen"
   ]
  },
  {
   "cell_type": "code",
   "execution_count": 18,
   "metadata": {},
   "outputs": [
    {
     "name": "stdout",
     "output_type": "stream",
     "text": [
      "Z12p: (1.8918918918918917+1.3513513513513513j) Ohm\n",
      "Z12p polar: (2.3249527748763854, 0.6202494859828215) Ohm\n"
     ]
    }
   ],
   "source": [
    "# Z1 und Z2 parallel\n",
    "Z12p = Z1*Z2/(Z1+Z2)\n",
    "print('Z12p:', Z12p, 'Ohm')\n",
    "print('Z12p polar:', cmath.polar(Z12p),'Ohm')"
   ]
  },
  {
   "cell_type": "code",
   "execution_count": 19,
   "metadata": {},
   "outputs": [
    {
     "data": {
      "image/png": "[encoded data removed]",
      "text/plain": [
       "<Figure size 576x288 with 3 Axes>"
      ]
     },
     "metadata": {
      "needs_background": "light"
     },
     "output_type": "display_data"
    }
   ],
   "source": [
    "# Zeigerdiagramme von Z1, Z2 und Z12p\n",
    "# - wir machen 3 Diagramme nebeneinander\n",
    "fig, ax = plt.subplots(1, 3, sharex=False, sharey=False, figsize=(8, 4))\n",
    "# linkes Diagramm \n",
    "ax[0].set_aspect('equal', adjustable='box') # Skalierung x wie y\n",
    "ax[0].axis([-np.abs(Z1),np.abs(Z1),-np.abs(Z1),np.abs(Z1)])\n",
    "ax[0].set_xlabel(r'$R_{1}$ [$\\Omega$]',color='blue') # x-Achsentitel\n",
    "ax[0].set_ylabel(r'$X_1$ [$\\Omega$]', color='blue') # y-Achsentitel\n",
    "ax[0].annotate('', xytext = (0, 0),xy = (Z1.real, Z1.imag),\n",
    "             arrowprops = {'facecolor' : 'blue', \n",
    "                           'edgecolor' : 'blue', \n",
    "                           'linewidth' : .001}) # Zeiger Z1\n",
    "ax[0].grid() # Gitternetzlinien\n",
    "# mittleres Diagramm: Z2\n",
    "ax[1].set_aspect('equal', adjustable='box') # Skalierung x wie y\n",
    "ax[1].axis([-np.abs(Z2),np.abs(Z2),-np.abs(Z2),np.abs(Z2)])\n",
    "ax[1].set_xlabel(r'$R_{2}$ [$\\Omega$]',color='green') # x-Achsentitel\n",
    "ax[1].set_ylabel(r'$X_2$ [$\\Omega$]',color='green') # y-Achsentitel\n",
    "ax[1].annotate('', xytext = (0, 0),xy = (Z2.real, Z2.imag),\n",
    "             arrowprops = {'facecolor' : 'green', \n",
    "                           'edgecolor' : 'green', \n",
    "                           'linewidth' : .001}) # Zeiger Z2\n",
    "ax[1].grid() # Gitternetzlinien\n",
    "# rechtes Diagramm: Z12p\n",
    "ax[2].set_aspect('equal', adjustable='box') # Skalierung x wie y\n",
    "ax[2].axis([-np.abs(Z12p),np.abs(Z12p),-np.abs(Z12p),np.abs(Z12p)])\n",
    "ax[2].set_xlabel(r'$R_{12}$ [$\\Omega$]',color='red') # x-Achsentitel\n",
    "ax[2].set_ylabel(r'$X_{12}$ [$\\Omega$]',color='red') # y-Achsentitel\n",
    "ax[2].annotate('', xytext = (0, 0),xy = (Z1.real, Z1.imag),\n",
    "             arrowprops = {'facecolor' : 'blue', \n",
    "                           'edgecolor' : 'blue', \n",
    "                           'linewidth' : .001}) # Zeiger Z1\n",
    "ax[2].annotate('', xytext = (Z1.real, Z1.imag),xy = (Z1.real+Z2.real, Z1.imag+Z2.imag),\n",
    "             arrowprops = {'facecolor' : 'green', \n",
    "                           'edgecolor' : 'green', \n",
    "                           'linewidth' : .001}) # Zeiger Z2\n",
    "ax[2].annotate('', xytext = (0, 0),xy = (Z12p.real, Z12p.imag),\n",
    "             arrowprops = {'facecolor' : 'red', \n",
    "                           'edgecolor' : 'red', \n",
    "                           'linewidth' : .001}) # Zeiger Z12p\n",
    "ax[2].grid() # Gitternetzlinien"
   ]
  },
  {
   "cell_type": "markdown",
   "metadata": {},
   "source": [
    "**Aufgabe: Warum kann man die Gesamtimpedanz $Z_{12,p}$ nicht durch Addieren der Einzelimpedanzen erhalten?**"
   ]
  },
  {
   "cell_type": "markdown",
   "metadata": {},
   "source": [
    "*Antwort:*"
   ]
  },
  {
   "cell_type": "markdown",
   "metadata": {},
   "source": [
    "**Aufgabe: Ermitteln Sie ebenfalls die Impedanzen der folgenden Parallelschaltungen und tragen Sie die Werte in der Tabelle (Doppelklick in Zelle -> bearbeiten *Wert* ) ein. Rechnen Sie zuerst mit dem Taschenrechner. Nutzen Sie python erst am Schluss, um Ihre Taschenrechner-Rechnung zu überprüfen.**"
   ]
  },
  {
   "cell_type": "markdown",
   "metadata": {},
   "source": [
    "| $Z_{1}$ parallel zu $Z_2$ | $Z_{12,p}$ | *Wert* |\n",
    "|----------------------------|----------|--------|\n",
    "| $Z_{1}$ parallel zu $Z_3$ | $Z_{13,p}$ | *Wert* |\n",
    "| $Z_{1}$ parallel zu $Z_4$ | $Z_{14,p}$ | *Wert* |\n",
    "| $Z_{2}$ parallel zu $Z_3$ | $Z_{23,p}$ | *Wert* |\n",
    "| $Z_{2}$ parallel zu $Z_4$ | $Z_{24,p}$ | *Wert* |\n",
    "| $Z_{3}$ parallel zu $Z_4$ | $Z_{34,p}$ | *Wert* |"
   ]
  },
  {
   "cell_type": "markdown",
   "metadata": {},
   "source": [
    "*Kommentar:*"
   ]
  },
  {
   "cell_type": "code",
   "execution_count": 20,
   "metadata": {},
   "outputs": [
    {
     "name": "stdout",
     "output_type": "stream",
     "text": [
      "Y12p: (0.35-0.25j) S\n"
     ]
    }
   ],
   "source": [
    "# Admittanz\n",
    "Y12p = Y1 + Y2\n",
    "print('Y12p:', Y12p, 'S') # S steht für Siemens"
   ]
  },
  {
   "cell_type": "code",
   "execution_count": 21,
   "metadata": {},
   "outputs": [
    {
     "data": {
      "image/png": "[encoded data removed]",
      "text/plain": [
       "<Figure size 576x288 with 3 Axes>"
      ]
     },
     "metadata": {
      "needs_background": "light"
     },
     "output_type": "display_data"
    }
   ],
   "source": [
    "# Zeigerdiagramme von Y1, Y2 und Y12p\n",
    "# - wir machen 3 Diagramme nebeneinander\n",
    "fig, ax = plt.subplots(1, 3, sharex=True, sharey=True, figsize=(8, 4))\n",
    "# linkes Diagramm \n",
    "ax[0].set_aspect('equal', adjustable='box') # Skalierung x wie y\n",
    "ax[0].axis([-np.abs(Y12p),np.abs(Y12p),-np.abs(Y12p),np.abs(Y12p)])\n",
    "ax[0].set_xlabel(r'$G_{1}$ [S]',color='blue') # x-Achsentitel\n",
    "ax[0].set_ylabel(r'$B$ [S]') # y-Achsentitel\n",
    "ax[0].annotate('', xytext = (0, 0),xy = (Y1.real, Y1.imag),\n",
    "             arrowprops = {'facecolor' : 'blue', \n",
    "                           'edgecolor' : 'blue', \n",
    "                           'linewidth' : .001}) # Zeiger Y1\n",
    "ax[0].grid() # Gitternetzlinien\n",
    "# mittleres Diagramm: Y2\n",
    "ax[1].set_aspect('equal', adjustable='box') # Skalierung x wie y\n",
    "ax[1].set_xlabel(r'$G_{2}$ [S]',color='green') # x-Achsentitel\n",
    "ax[1].annotate('', xytext = (0, 0),xy = (Y2.real, Y2.imag),\n",
    "             arrowprops = {'facecolor' : 'green', \n",
    "                           'edgecolor' : 'green', \n",
    "                           'linewidth' : .001}) # Zeiger Y2\n",
    "ax[1].grid() # Gitternetzlinien\n",
    "# rechtes Diagramm: Y1+Y2\n",
    "ax[2].set_aspect('equal', adjustable='box') # Skalierung x wie y\n",
    "ax[2].set_xlabel(r'$G_{12}$ [S]',color='red') # x-Achsentitel\n",
    "ax[2].annotate('', xytext = (0, 0),xy = (Y1.real, Y1.imag),\n",
    "             arrowprops = {'facecolor' : 'blue', \n",
    "                           'edgecolor' : 'blue', \n",
    "                           'linewidth' : .001}) # Zeiger Y1\n",
    "ax[2].annotate('', xytext = (Y1.real, Y1.imag),xy = (Y1.real+Y2.real, Y1.imag+Y2.imag),\n",
    "             arrowprops = {'facecolor' : 'green', \n",
    "                           'edgecolor' : 'green', \n",
    "                           'linewidth' : .001}) # Zeiger Y2\n",
    "ax[2].annotate('', xytext = (0, 0),xy = (Y12p.real, Y12p.imag),\n",
    "             arrowprops = {'facecolor' : 'red', \n",
    "                           'edgecolor' : 'red', \n",
    "                           'linewidth' : .001}) # Zeiger Y12\n",
    "ax[2].grid() # Gitternetzlinien"
   ]
  },
  {
   "cell_type": "markdown",
   "metadata": {},
   "source": [
    "**Aufgabe: Ermitteln Sie ebenfalls die Admittanzen der möglichen Parallelschaltungen und tragen Sie die Werte in einer Tabelle ein. Dazu bitte: eine der oberen Zellen kopieren, einfügen und dann editieren. Rechnen Sie zuerst mit dem Taschenrechner. Überprüfen Sie dann mit einem Zeigerdiagramm auf Papier und nutzen Sie python erst am Schluss, um sowohl Ihre Taschenrechner-Rechnung als auch Ihre Zeigerdiagramme zu überprüfen.**"
   ]
  },
  {
   "cell_type": "markdown",
   "metadata": {},
   "source": [
    "*Platz für Tabelle:*"
   ]
  },
  {
   "cell_type": "markdown",
   "metadata": {},
   "source": [
    "*Kommentar:*"
   ]
  },
  {
   "cell_type": "markdown",
   "metadata": {},
   "source": [
    "## Ohmsches Gesetz an Impedanzen oder Admittanzen"
   ]
  },
  {
   "cell_type": "code",
   "execution_count": 22,
   "metadata": {},
   "outputs": [
    {
     "name": "stdout",
     "output_type": "stream",
     "text": [
      "Z5: (115-115j) Ohm\n",
      "Y5: (0.004347826086956522+0.004347826086956522j) S\n"
     ]
    }
   ],
   "source": [
    "# Strom\n",
    "I5 = complex(1,1)\n",
    "# Spannung\n",
    "U5 = complex(230,0)\n",
    "# Impedanz\n",
    "Z5 = U5/I5\n",
    "print('Z5:', Z5, 'Ohm')\n",
    "# Admittanz\n",
    "Y5 = I5/U5\n",
    "print('Y5:', Y5, 'S')"
   ]
  },
  {
   "cell_type": "markdown",
   "metadata": {},
   "source": [
    "**Aufgabe: Überprüfen Sie das Ergebnis mit Ihrem Taschenrechner. Verändern Sie dann die Werte der Spannung so, dass die Admittanz rein reell wird (Imaginärteil 0). Probieren Sie danach aus, die Spannung so anzupassen, dass die Impedanz rein imaginär wird (Realteil 0).**"
   ]
  }
 ],
 "metadata": {
  "kernelspec": {
   "display_name": "Python 3",
   "language": "python",
   "name": "python3"
  },
  "language_info": {
   "codemirror_mode": {
    "name": "ipython",
    "version": 3
   },
   "file_extension": ".py",
   "mimetype": "text/x-python",
   "name": "python",
   "nbconvert_exporter": "python",
   "pygments_lexer": "ipython3",
   "version": "3.6.10"
  }
 },
 "nbformat": 4,
 "nbformat_minor": 2
}
