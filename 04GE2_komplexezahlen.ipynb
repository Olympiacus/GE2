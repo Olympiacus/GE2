{
 "cells": [
  {
   "cell_type": "markdown",
   "metadata": {},
   "source": [
    "# Komplexe Zahlen für Wechselstrom"
   ]
  },
  {
   "cell_type": "markdown",
   "metadata": {},
   "source": [
    "Um die Knotenregel und die Maschenregel für Wechselströme anwenden zu können, kann man entweder einfach alles im Zeitbereich lösen. Das ist in einem Jupyter Notebook auch ganz einfach und elegant möglich, da der Computer einem die mühsame Erstellung einer Wertetabelle und die Berechnung \n",
    "von Summen und so weiter automatisiert. \n",
    "\n",
    "Allerdings ist es trotzdem noch recht umständlich, wenn man so etwas nur mit dem Rechner berechnen kann. Außerdem braucht man bei Zeitfunktionen länger, um diese zu erfassen: Amplitude und Phase sind nicht auf einen Blick ersichtlich. Übersichtlicher ist die Zeigerdarstellung für komplexe Zahlen."
   ]
  },
  {
   "cell_type": "code",
   "execution_count": null,
   "metadata": {},
   "outputs": [],
   "source": [
    "# Bibliotheken laden\n",
    "import numpy as np\n",
    "import matplotlib.pyplot as plt\n",
    "# Graphikparameter\n",
    "plt.style.use('classic')\n",
    "plt.rcParams.update({'font.size':14})\n",
    "plt.rcParams.update({'figure.autolayout': True})"
   ]
  },
  {
   "cell_type": "markdown",
   "metadata": {},
   "source": [
    "## Zeitfunktionen für Wechselspannungen"
   ]
  },
  {
   "cell_type": "markdown",
   "metadata": {},
   "source": [
    "### Spannung $u_1(t)$ und Berechnung des Effektivwertes $U_1$"
   ]
  },
  {
   "cell_type": "code",
   "execution_count": null,
   "metadata": {},
   "outputs": [],
   "source": [
    "# Zeitvektor\n",
    "t = np.linspace(-10e-3,50e-3,1000)\n",
    "# Amplitude der Spannung\n",
    "udach1 = 315 # in Volt\n",
    "# Frequenz\n",
    "f = 50 # in Hertz\n",
    "# Kreisfrequenz\n",
    "omega = 2*np.pi*f # in Hertz\n",
    "# Nullphasenwinkel der Spannung\n",
    "phiu1 = np.pi/3 # in rad\n",
    "phiu1g = 180*phiu1/np.pi # in Grad\n",
    "# Spannung\n",
    "u1 = udach1*np.cos(omega*t+phiu1)\n",
    "# Effektivwert\n",
    "U1 = udach1/np.sqrt(2) # in Volt\n",
    "\n",
    "# Diagramm erstellen\n",
    "plt.plot(1000*t,u1,label='$u_1(t)$') # u1\n",
    "plt.plot(1000*t,U1*np.ones(len(t)),'k--',label='$U_1$') # U1\n",
    "plt.plot(np.zeros(2),[-1.1*udach1,1.1*udach1],'k-') # Hilfslinie\n",
    "plt.plot([1000*t[0],1000*t[-1]],np.zeros(2),'k-') # Hilfslinie\n",
    "plt.xlabel('Zeit $t$ [ms]') # x-Achsenbeschriftung\n",
    "plt.grid() # Gitternetz\n",
    "plt.legend(loc='best') # Legende"
   ]
  },
  {
   "cell_type": "markdown",
   "metadata": {},
   "source": [
    "**Aufgabe: Verändern Sie den Wert der Phase `phiu1` und beobachten Sie, wie sich das Signal nach rechts oder nach links verschiebt. Was passiert, wenn `phiu1` negativ ist?**"
   ]
  },
  {
   "cell_type": "markdown",
   "metadata": {},
   "source": [
    "*Antwort:*"
   ]
  },
  {
   "cell_type": "markdown",
   "metadata": {},
   "source": [
    "### Spannung $u_2(t)$ und Berechnung des Effektivwertes $U_2$"
   ]
  },
  {
   "cell_type": "code",
   "execution_count": null,
   "metadata": {},
   "outputs": [],
   "source": [
    "# Amplitude der zweiten Spannung\n",
    "udach2 = np.sqrt(2)*150\n",
    "# Nullphasenwinkel der zweiten Spannung\n",
    "phiu2 = -3*np.pi/2 # in rad\n",
    "phiu2g = 180*phiu2/np.pi # in Grad\n",
    "# zweite Spannung\n",
    "u2 = udach2*np.cos(omega*t+phiu2)\n",
    "# Effektivwert\n",
    "U2 = udach2/np.sqrt(2) # in Volt\n",
    "\n",
    "# Diagramm erstellen\n",
    "plt.plot(1000*t,u2,'g-',label='$u_2(t)$') # u2\n",
    "plt.plot(1000*t,U2*np.ones(len(t)),'k--',label='$U_2$') # U2\n",
    "plt.plot(np.zeros(2),[-1.1*udach2,1.1*udach2],'k-') # Hilfslinie\n",
    "plt.plot([1000*t[0],1000*t[-1]],np.zeros(2),'k-') # Hilfslinie\n",
    "plt.xlabel('Zeit $t$ [ms]') # x-Achsenbeschriftung\n",
    "plt.grid()\n",
    "plt.legend(loc='best') # Legende"
   ]
  },
  {
   "cell_type": "markdown",
   "metadata": {},
   "source": [
    "**Aufgabe: Verändern Sie den Wert der Amplitude `udach2` des Signals und beobachten Sie den Effekt. Beachten Sie dabei, dass sich die y-Achsen-Skala an die benötigten Werte anpasst.**"
   ]
  },
  {
   "cell_type": "markdown",
   "metadata": {},
   "source": [
    "*Antwort:*"
   ]
  },
  {
   "cell_type": "markdown",
   "metadata": {},
   "source": [
    "### Summe $u_S(t)=u_1(t)+u_2(t)$ mit Effektivwert $U_S$"
   ]
  },
  {
   "cell_type": "code",
   "execution_count": null,
   "metadata": {},
   "outputs": [],
   "source": [
    "# Bestimmung des Signals us\n",
    "us = u1 + u2\n",
    "# Periode\n",
    "T = 1/f\n",
    "# Index Tidx des Zeitvektors t nach Verstreichen der Periode T\n",
    "Tidx = (np.abs(t - T)).argmin()\n",
    "# Effektivwert\n",
    "US = (1/T)*np.sqrt(np.mean(us[0:Tidx]))\n",
    "print(US)\n",
    "# Amplitude\n",
    "usdach = US*np.sqrt(2)\n",
    "\n",
    "# Diagramm der Summe der beiden Spannungen:\n",
    "# - wir machen 3 Diagramme untereinander\n",
    "# - so kann man nachprüfen, ob die Summe stimmt\n",
    "fig, ax = plt.subplots(3, 1, sharex=True, sharey=True, figsize=(8, 7))\n",
    "# oberes Diagramm: u1\n",
    "ax[0].plot(1000*t,u1,'b-') # u1, python fängt immer bei 0 zu zählen an\n",
    "ax[0].set_ylabel('$u_1(t)$') # y-Achsentitel, set_ylabel() statt ylabel()\n",
    "ax[0].grid() # Gitternetzlinien\n",
    "# mittleres Diagramm: u2\n",
    "ax[1].plot(1000*t,u2,'g-') # u2\n",
    "ax[1].set_ylabel('$u_2(t)$') # y-Achsentitel\n",
    "ax[1].grid() # Gitternetzlinien\n",
    "# unteres Diagramm: us = u1+u2\n",
    "ax[2].plot(1000*t,us,'r-') # Summe\n",
    "ax[2].set_ylabel(r'$u_S=u_1(t)+u_2(t)$') # y-Achsentitel\n",
    "ax[2].grid() # Gitternetzlinien\n",
    "ax[2].set_xlabel(r'Zeit $t$ [ms]') # x-Achsentitel nur unten"
   ]
  },
  {
   "cell_type": "markdown",
   "metadata": {},
   "source": [
    "Es ergibt sich also eine neue Schwingung aus der Summe, deren Amplitude $\\hat{u_S}$ python auch ausgeben kann und zwar mit der Formel, die im Skript beschrieben ist: \n",
    "\n",
    "\\begin{equation}\n",
    "\\hat{u_S}=\\sqrt{\\hat{u_1}^2+\\hat{u_2}^2+2\\hat{u_1}\\hat{u_2}\\cos(\\varphi_1-\\varphi_2)}\n",
    "\\end{equation}"
   ]
  },
  {
   "cell_type": "code",
   "execution_count": null,
   "metadata": {},
   "outputs": [],
   "source": [
    "us = np.sqrt(udach1**2 + udach2**2 + 2*udach1*udach2*np.cos(phiu1-phiu2))\n",
    "print('us = '+str(np.round(us,1))+' V')"
   ]
  },
  {
   "cell_type": "markdown",
   "metadata": {},
   "source": [
    "**Aufgabe: Wir können testen, ob dieser Wert der gleiche ist wie das Maximum von $u_S(t)$. Verwenden Sie dafür in einer Code-Zelle den Befehl `print(np.max(us))` und kommentieren Sie in der Text-Zelle danach.**"
   ]
  },
  {
   "cell_type": "code",
   "execution_count": null,
   "metadata": {},
   "outputs": [],
   "source": [
    "# hier Ihren Code einfügen"
   ]
  },
  {
   "cell_type": "markdown",
   "metadata": {},
   "source": [
    "*Kommentar*"
   ]
  },
  {
   "cell_type": "markdown",
   "metadata": {},
   "source": [
    "**Aufgabe: Ändern Sie Amplitude und Phasenwinkel von $u_1(t)$ so ab, dass als Summe der beiden Signale $u_S(t)$ a) 0 bzw. b) das Doppelte von $u_2(t)$ herauskommt.**"
   ]
  },
  {
   "cell_type": "markdown",
   "metadata": {},
   "source": [
    "*a) udach1 muss ... und phiu1 muss ... sein, damit $u_S(t)=0$*\n",
    "\n",
    "*b) udach1 muss ... und phiu1 muss ... sein, damit $u_S(t)=2\\cdot u_2(t)$*"
   ]
  },
  {
   "cell_type": "markdown",
   "metadata": {},
   "source": [
    "## Zeigerdarstellung von Schwingungen"
   ]
  },
  {
   "cell_type": "markdown",
   "metadata": {},
   "source": [
    "Wir hatten ja im Skript gesehen, dass eine Zeigerdarstellung sich in eine Cosinusdarstellung im Zeitbereich überführen lässt und umgekehrt. "
   ]
  },
  {
   "cell_type": "markdown",
   "metadata": {},
   "source": [
    "Eine ziemlich gute Animation davon, findet sich in geogebra: https://www.geogebra.org/m/m7RHfryq#material/FJtrEDAr"
   ]
  },
  {
   "cell_type": "markdown",
   "metadata": {},
   "source": [
    "Sie können dort beobachten, wie sich jeweils die x-Auslenkung ($\\cos$) und die y-Auslenkung ($\\sin$) des Zeigers über der Zeit verhalten. Dabei ist in der Animation nur der Nullphasenwinkel $\\varphi=0^\\circ$ vorgesehen."
   ]
  },
  {
   "cell_type": "markdown",
   "metadata": {},
   "source": [
    "Was man allerdings beim längeren Beobachten der Animation feststellt, ist, dass das Zeiger sich nach jeweils einer Umdrehung wieder am gleichen Ort wie vorher befindet und dass er immer gleich schnell rotiert, weil ja die Frequenz konstant bleibt. "
   ]
  },
  {
   "cell_type": "markdown",
   "metadata": {},
   "source": [
    "Man könnte also einfach eine **Momentaufnahme** der Zeigerbewegung zu einem definierten Zeitpunkt machen und daraus entnehmen, welche Funktion zu sehen ist. Wir versuchen das nun für die oben definierten Spannungsfunktionen und stellen den Zeiger zum Zeitpunkt $t=0$ mit dem entsprechenden Nullphasenwinkel dar. Entsprechend der elektrotechnischen Konventionen hat er immer die **Länge des Effektivwertes**. "
   ]
  },
  {
   "cell_type": "markdown",
   "metadata": {},
   "source": [
    "Die x-Auslenkung des Zeigers nennt man **Realteil** oder in der Elektrotechnik auch **Wirkanteil**. Die y-Ausrichtung des Zeigers heißt **Imaginärteil** oder in der Elektrotechnik auch **Blindanteil**. Genauso wie in der oben verlinkten geogebra-App gezeigt, können wir diese Anteile ausrechnen: "
   ]
  },
  {
   "cell_type": "code",
   "execution_count": null,
   "metadata": {},
   "outputs": [],
   "source": [
    "# Wirkanteile der Spannungen u1 und u2\n",
    "UW1 = U1*np.cos(phiu1)\n",
    "UW2 = U2*np.cos(phiu2)\n",
    "# Blindanteile der Spannungen u1 und u2\n",
    "UB1 = U1*np.sin(phiu1)\n",
    "UB2 = U2*np.sin(phiu2)"
   ]
  },
  {
   "cell_type": "markdown",
   "metadata": {},
   "source": [
    "Nun stellen wir die Spannungen $\\underline{U_1}=U_{1,W}+jU_{1,B}$ und $\\underline{U_2}=U_{2,W}+jU{1,B}$ als Zeiger dar und berechnen daraus die Zeigerdarstellung für die Summe der beiden Spannung, indem wir die beiden Zeiger addieren."
   ]
  },
  {
   "cell_type": "code",
   "execution_count": null,
   "metadata": {},
   "outputs": [],
   "source": [
    "# Summenzeiger US\n",
    "UWS = UW1 + UW2\n",
    "UBS = UB1 + UB2"
   ]
  },
  {
   "cell_type": "code",
   "execution_count": null,
   "metadata": {},
   "outputs": [],
   "source": [
    "# für den Hilfskreis benötigte Variablen, jeweils für jede Spannung\n",
    "theta = np.linspace(0, 2*np.pi, 1000) # einmal alle Winkel im Kreis\n",
    "# für U1\n",
    "uh1x = U1*np.cos(theta) # x-Komponenten aller Punkte im Kreis\n",
    "uh1y = U1*np.sin(theta) # y-Komponenten aller Punkte im Kreis\n",
    "# für U2\n",
    "uh2x = U2*np.cos(theta) # x-Komponenten aller Punkte im Kreis\n",
    "uh2y = U2*np.sin(theta) # y-Komponenten aller Punkte im Kreis\n",
    "# für US\n",
    "uhsx = US*np.cos(theta) # x-Komponenten aller Punkte im Kreis\n",
    "uhsy = US*np.sin(theta) # y-Komponenten aller Punkte im Kreis\n",
    "\n",
    "# Zeigerdiagramme der drei Spannungen\n",
    "# - wir machen 3 Diagramme nebeneinander\n",
    "fig, ax = plt.subplots(1, 3, sharex=True, sharey=True, figsize=(8, 4))\n",
    "# linkes Diagramm U1W + jU1B\n",
    "ax[0].set_aspect('equal', adjustable='box') # Skalierung x wie y\n",
    "ax[0].plot(uh1x,uh1y,'k:') # gepunkteter Hilfskreis mit Radius U1\n",
    "ax[0].set_xlabel(r'$U_{1,W}$ [V]',color='blue') # x-Achsentitel\n",
    "ax[0].set_ylabel(r'$U_{B}$ [V]') # y-Achsentitel\n",
    "ax[0].annotate('', xytext = (0, 0),xy = (UW1, UB1),\n",
    "             arrowprops = {'facecolor' : 'blue', \n",
    "                           'edgecolor' : 'blue', \n",
    "                           'linewidth' : .001}) # Zeiger U1\n",
    "ax[0].grid() # Gitternetzlinien\n",
    "# mittleres Diagramm: U2W + jU2B\n",
    "ax[1].set_aspect('equal', adjustable='box') # Skalierung x wie y\n",
    "ax[1].plot(uh2x,uh2y,'k:') # gepunkteter Hilfskreis mit Radius U1\n",
    "ax[1].set_xlabel(r'$U_{2,W}$ [V]',color='green') # x-Achsentitel\n",
    "ax[1].annotate('', xytext = (0, 0),xy = (UW2, UB2),\n",
    "             arrowprops = {'facecolor' : 'green', \n",
    "                           'edgecolor' : 'green', \n",
    "                           'linewidth' : .001}) # Zeiger U2\n",
    "ax[1].grid() # Gitternetzlinien\n",
    "# rechtes Diagramm: USW + jUSB\n",
    "ax[2].set_aspect('equal', adjustable='box') # Skalierung x wie y\n",
    "ax[2].plot(uhsx,uhsy,'k:') # gepunkteter Hilfskreis mit Radius U1\n",
    "ax[2].set_xlabel(r'$U_{S,W}$ [V]',color='red') # x-Achsentitel\n",
    "ax[2].annotate('', xytext = (0, 0),xy = (UW1, UB1),\n",
    "             arrowprops = {'facecolor' : 'blue', \n",
    "                           'edgecolor' : 'blue', \n",
    "                           'linewidth' : .001}) # Zeiger U1\n",
    "ax[2].annotate('', xytext = (UW1, UB1),xy = (UW1+UW2, UB1+UB2),\n",
    "             arrowprops = {'facecolor' : 'green', \n",
    "                           'edgecolor' : 'green', \n",
    "                           'linewidth' : .001}) # Zeiger U2\n",
    "ax[2].annotate('', xytext = (0, 0),xy = (UWS, UBS),\n",
    "             arrowprops = {'facecolor' : 'red', \n",
    "                           'edgecolor' : 'red', \n",
    "                           'linewidth' : .001}) # Zeiger US\n",
    "ax[2].grid() # Gitternetzlinien"
   ]
  },
  {
   "cell_type": "markdown",
   "metadata": {},
   "source": [
    "Wenn man genau hinsieht, dann erkennt man, dass der rote Zeiger $\\underline{U_S}=\\underline{U_1}+\\underline{U_2}$ aus der Vektoraddition der anderen beiden Zeiger entsteht. "
   ]
  },
  {
   "cell_type": "markdown",
   "metadata": {},
   "source": [
    "Auch das können python und Taschenrechner, wenn man die Zahlen von vorne herein komplex anlegt: "
   ]
  },
  {
   "cell_type": "code",
   "execution_count": null,
   "metadata": {},
   "outputs": [],
   "source": [
    "Utest1 = complex(UW1,UB1)\n",
    "print('U1 komplex: ',Utest1)\n",
    "Utest2 = complex(UW2, UB2)\n",
    "print('U2 komplex: ', Utest2)"
   ]
  },
  {
   "cell_type": "markdown",
   "metadata": {},
   "source": [
    "Und dann können python und der komplexe-Zahlen-fähige Taschenrechner auch damit rechnen: "
   ]
  },
  {
   "cell_type": "markdown",
   "metadata": {},
   "source": [
    "**Aufgabe: Rechnen Sie nach, wie groß die Summe von `Utest1` und `Utest2` ist und zwar mit python und mit Ihrem Taschenrechner (suchen Sie sich ein Tutorial, indem Sie nach Ihrem Taschenrechner-Modell und komplexe Zahlen im Internet suchen).**"
   ]
  },
  {
   "cell_type": "markdown",
   "metadata": {},
   "source": [
    "*Ergebnis mit python:*"
   ]
  },
  {
   "cell_type": "markdown",
   "metadata": {},
   "source": [
    "*Ergebnis mit dem Taschenrechner*:"
   ]
  },
  {
   "cell_type": "markdown",
   "metadata": {},
   "source": [
    "*Kommentar*"
   ]
  },
  {
   "cell_type": "markdown",
   "metadata": {},
   "source": [
    "**Aufgabe: Führen Sie nun folgende weitere Rechenoperationen mit der komplexen Zahl $\\underline{x_1} = 3 + 4j$ und der komplexen Zahl $\\underline{x_2} = 4 + 5j$ durch:**\n",
    "\n",
    "* Addition $\\underline{x_1} + \\underline{x_2}$\n",
    "\n",
    "* Subtraktion $\\underline{x_1} - \\underline{x_2}$\n",
    "\n",
    "* Betrag $|\\underline{x_1}|$ (in python `np.abs(x1)`)\n",
    "\n",
    "* Phase $\\varphi_1=\\arctan(\\frac{\\Im(\\underline{x_1})}{\\Re(\\underline{x_1})})$ (in python `np.arctan(Imaginärteil/Realteil)`)\n",
    "\n",
    "* rechnen Sie die Phase von rad in Grad um\n",
    "\n",
    "* Inversion $\\underline{x_2}^{-1}=\\frac{1}{\\underline{x_2}}$\n",
    "\n",
    "* Division $\\frac{\\underline{x_1}}{\\underline{x_2}}$\n",
    "\n",
    "* Multiplikation $\\underline{x_1}\\cdot \\underline{x_2}$"
   ]
  },
  {
   "cell_type": "markdown",
   "metadata": {},
   "source": [
    "*Beschreiben Sie hier die Ergebnisse.*"
   ]
  }
 ],
 "metadata": {
  "kernelspec": {
   "display_name": "Python 3",
   "language": "python",
   "name": "python3"
  },
  "language_info": {
   "codemirror_mode": {
    "name": "ipython",
    "version": 3
   },
   "file_extension": ".py",
   "mimetype": "text/x-python",
   "name": "python",
   "nbconvert_exporter": "python",
   "pygments_lexer": "ipython3",
   "version": "3.6.10"
  }
 },
 "nbformat": 4,
 "nbformat_minor": 2
}
