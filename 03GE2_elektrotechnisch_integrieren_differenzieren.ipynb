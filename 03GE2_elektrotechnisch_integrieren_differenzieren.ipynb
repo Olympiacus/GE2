{
 "cells": [
  {
   "cell_type": "markdown",
   "metadata": {},
   "source": [
    "# Elektrotechnisch integrieren mit Spulen und Kondensatoren"
   ]
  },
  {
   "cell_type": "code",
   "execution_count": 1,
   "metadata": {},
   "outputs": [],
   "source": [
    "# Bibliotheken importieren\n",
    "import numpy as np\n",
    "import matplotlib.pyplot as plt\n",
    "plt.style.use('classic')"
   ]
  },
  {
   "cell_type": "markdown",
   "metadata": {},
   "source": [
    "Mathematisch ist das Verhalten von Strom und Spannung an Kondensatoren und Induktivitäten (Spulen) mit Integration bzw. Differentiation (Ableitung) beschreibbar. In diesem Notebook kann man mit den Funktionen \"spielen\", um ihr Verhalten besser zu verstehen. "
   ]
  },
  {
   "cell_type": "markdown",
   "metadata": {},
   "source": [
    "### Kondensator"
   ]
  },
  {
   "cell_type": "markdown",
   "metadata": {},
   "source": [
    "Ein Kondensator wird mit einem Strom auf eine bestimmte Spannung aufgeladen, d.h. er integriert das Stromsignal. Ist der Kondensator zuvor schon auf eine Spannung $u(t=0)$ aufgeladen, so muss man diesen Wert hinzuaddieren, um den richtigen Endwert zu erhalten."
   ]
  },
  {
   "cell_type": "markdown",
   "metadata": {},
   "source": [
    "\\begin{equation}\n",
    "u_C(t_1)=\\frac{1}{C}\\int_0^{t_1} i_C(t)dt + u_C(t=0)\n",
    "\\end{equation}"
   ]
  },
  {
   "cell_type": "markdown",
   "metadata": {},
   "source": [
    "Aus einem Spannungsverlauf $u_C(t)$ am Kondensator erhält man demzufolge über Ableiten auch den Stromverlauf $i_C(t)$. "
   ]
  },
  {
   "cell_type": "markdown",
   "metadata": {},
   "source": [
    "\\begin{equation}\n",
    "i_C(t)=C\\cdot \\frac{du_C(t)}{dt}\n",
    "\\end{equation}"
   ]
  },
  {
   "cell_type": "markdown",
   "metadata": {},
   "source": [
    "Da in einem realen System immer Widerstände (mindestens der Leitungen) vorkommen, kann man das Verhalten von $u_C(t)$ und $i_C(t)$ an der folgenden Abbildung betrachten."
   ]
  },
  {
   "cell_type": "markdown",
   "metadata": {},
   "source": [
    "![title](https://upload.wikimedia.org/wikipedia/commons/thumb/e/e6/Rc_glied.svg/1024px-Rc_glied.svg.png)"
   ]
  },
  {
   "cell_type": "markdown",
   "metadata": {},
   "source": [
    "### Induktivität"
   ]
  },
  {
   "cell_type": "markdown",
   "metadata": {},
   "source": [
    "Bei einer Induktivität führt die Selbstinduktion bei Stromänderung dazu, dass eine Spannung anliegt."
   ]
  },
  {
   "cell_type": "markdown",
   "metadata": {},
   "source": [
    "\\begin{equation}\n",
    "u_L(t)=L\\cdot\\frac{di_L(t)}{dt}\n",
    "\\end{equation}"
   ]
  },
  {
   "cell_type": "markdown",
   "metadata": {},
   "source": [
    "Der Strom lässt sich also auch durch Integration bestimmen, wobei man einen ggf. vorher schon fließenden Gleichstrom $i(t=0)$ hinzuaddieren muss, denn nur die Strom**änderung** führt eine Induktionsspannung herbei. "
   ]
  },
  {
   "cell_type": "markdown",
   "metadata": {},
   "source": [
    "\\begin{equation}\n",
    "i_L(t_1)=i_L(t=0)+\\frac{1}{L}\\int_0^{t_1}u_L(t)dt\n",
    "\\end{equation}"
   ]
  },
  {
   "cell_type": "markdown",
   "metadata": {},
   "source": [
    "Da in einem realen System immer Widerstände (mindestens der Leitungen) vorkommen, kann man das Verhalten von $u_L(t)$ und $i_L(t)$ an der folgenden Abbildung betrachten (dort ist, da es eine englischsprachige Quelle ist, $V$ für die Spannung eingetragen)."
   ]
  },
  {
   "cell_type": "markdown",
   "metadata": {},
   "source": [
    "![title](https://upload.wikimedia.org/wikipedia/commons/thumb/8/8b/Series-RL.png/250px-Series-RL.png)"
   ]
  },
  {
   "cell_type": "markdown",
   "metadata": {},
   "source": [
    "## Kondensatorverhalten"
   ]
  },
  {
   "cell_type": "markdown",
   "metadata": {},
   "source": [
    "### Konstanter Ladestrom"
   ]
  },
  {
   "cell_type": "code",
   "execution_count": 4,
   "metadata": {},
   "outputs": [
    {
     "data": {
      "text/plain": [
       "Text(0, 0.5, 'Spannung $u_C$ [V]')"
      ]
     },
     "execution_count": 4,
     "metadata": {},
     "output_type": "execute_result"
    },
    {
     "data": {
      "image/png": "[encoded data removed]",
      "text/plain": [
       "<Figure size 576x360 with 2 Axes>"
      ]
     },
     "metadata": {
      "needs_background": "light"
     },
     "output_type": "display_data"
    }
   ],
   "source": [
    "# Zeitvektor\n",
    "t = np.linspace(0,20e-3,1000) # von 0 bis 20 ms in 1000 Schritten\n",
    "# konstanter Strom\n",
    "i1 = 0.1 # 100 mA\n",
    "i1 = i1*np.ones(len(t)) # zu jedem Zeitpunkt konstant\n",
    "# Kapazität\n",
    "C = 1e-3 # 1 mF\n",
    "# Spannung zu Beginn\n",
    "u0 = 1 # 1 Volt\n",
    "# Spannung bestimmen\n",
    "u1 = u0 + (1/C)*np.cumsum(i1*t[1]-t[0])\n",
    "\n",
    "# zwei Diagramme in einem mit subplot\n",
    "plt.figure(figsize=(8,5))\n",
    "plt.subplot(2,1,1)\n",
    "# im Diagramm darstellen\n",
    "plt.plot(1000*t,1000*i1)\n",
    "# Diagramm beschriften\n",
    "plt.ylabel('Strom $i_C$ [mA]')\n",
    "# zweites Diagramm\n",
    "plt.subplot(2,1,2)\n",
    "# Spannung im Diagramm darstellen\n",
    "plt.plot(1000*t,u1)\n",
    "# Diagramm beschriften\n",
    "plt.xlabel('Zeit $t$ [ms]')\n",
    "plt.ylabel('Spannung $u_C$ [V]')"
   ]
  },
  {
   "cell_type": "markdown",
   "metadata": {},
   "source": [
    "**Aufgabe: Stellen Sie die Anfangsspannung so ein, dass der Kondensator am Ende des betrachteten Zeitraums entladen ist.**"
   ]
  },
  {
   "cell_type": "markdown",
   "metadata": {},
   "source": [
    "*Tragen Sie hier das Ergebnis ein.*"
   ]
  },
  {
   "cell_type": "markdown",
   "metadata": {},
   "source": [
    "### Beliebiger Ladestrom"
   ]
  },
  {
   "cell_type": "code",
   "execution_count": null,
   "metadata": {},
   "outputs": [],
   "source": [
    "# Zeitvektor\n",
    "t = np.linspace(0,20e-3,1000) # von 0 bis 20 ms in 1000 Schritten\n",
    "\n",
    "# beliebiger zeitabhängiger Ladestrom \n",
    "# - zum Auswählen des jeweiligen Stroms das # entfernen und\n",
    "# - beim anderen Strom jeweils das # am Anfang ergänzen (auskommentieren)\n",
    "i2 = 0.2*(np.random.rand(len(t))-.5) # Zufallszahlen um Nullpunkt herum\n",
    "# i2 = 0.2*np.cos(2*np.pi*50*t) # Cosinus\n",
    "# i2 = t**2 # Quadratische Abhängigkeit von der Zeit\n",
    "\n",
    "# Kapazität\n",
    "C = 1e-3 # 1 mF\n",
    "# Spannung zu Beginn\n",
    "u0 = 0 # 0 Volt\n",
    "# Spannung bestimmen\n",
    "u2 = u0 + (1/C)*np.cumsum(i2*t[1]-t[0])\n",
    "\n",
    "# zwei Diagramme in einem mit subplot\n",
    "plt.figure(figsize=(8,5))\n",
    "plt.subplot(2,1,1)\n",
    "# im Diagramm darstellen\n",
    "plt.plot(1000*t,1000*i2)\n",
    "# Diagramm beschriften\n",
    "plt.ylabel('Strom $i_C$ [mA]')\n",
    "# zweites Diagramm\n",
    "plt.subplot(2,1,2)\n",
    "# Spannung im Diagramm darstellen\n",
    "plt.plot(1000*t,1000*u2)\n",
    "# Diagramm beschriften\n",
    "plt.xlabel('Zeit $t$ [ms]')\n",
    "plt.ylabel('Spannung $u_C$ [mV]')"
   ]
  },
  {
   "cell_type": "markdown",
   "metadata": {},
   "source": [
    "**Aufgabe: Finden sie eine Funktion für den Strom, bei der die Kondensatorspannung regelmäßig zurück auf Null geht.**"
   ]
  },
  {
   "cell_type": "markdown",
   "metadata": {},
   "source": [
    "*Tragen Sie hier das Ergebnis ein.*"
   ]
  },
  {
   "cell_type": "markdown",
   "metadata": {},
   "source": [
    "### Linear steigende Kondensatorspannung"
   ]
  },
  {
   "cell_type": "code",
   "execution_count": null,
   "metadata": {},
   "outputs": [],
   "source": [
    "# Zeitvektor\n",
    "t = np.linspace(0,20e-3,1000) # von 0 bis 20 ms in 1000 Schritten\n",
    "# linear steigende Kondensatorspannung\n",
    "u3 = 0.1 + 0.001*t # 0,1 zu Beginn, danach mit 0,001 steigend\n",
    "# Kapazität\n",
    "C = 1e-3 # 1 mF\n",
    "# Strom bestimmen\n",
    "i3 = C*np.diff(u3)\n",
    "# noch einen Wert anhängen, da diff einen um 1 verkürzten Vektor ergibt\n",
    "i3 = np.append(1e-12,i3)\n",
    "\n",
    "# zwei Diagramme in einem mit subplot\n",
    "plt.figure(figsize=(8,5))\n",
    "plt.subplot(2,1,1)\n",
    "# im Diagramm darstellen\n",
    "plt.plot(1000*t,1e3*u3)\n",
    "# Diagramm beschriften\n",
    "plt.ylabel('Spannung $u_C$ [mV]')\n",
    "# zweites Diagramm\n",
    "plt.subplot(2,1,2)\n",
    "# Spannung im Diagramm darstellen\n",
    "plt.plot(1000*t,1e9*i3)\n",
    "# Diagramm beschriften\n",
    "plt.xlabel('Zeit $t$ [ms]')\n",
    "plt.ylabel('Strom $i_C$ [nA]')"
   ]
  },
  {
   "cell_type": "markdown",
   "metadata": {},
   "source": [
    "**Aufgabe: Stellen Sie das Diagramm dar, wenn die Zeitachse bis 100 ms statt bis 20 ms geht. Ändert sich der Strom?**"
   ]
  },
  {
   "cell_type": "markdown",
   "metadata": {},
   "source": [
    "*Tragen Sie hier das Ergebnis ein.*"
   ]
  },
  {
   "cell_type": "markdown",
   "metadata": {},
   "source": [
    "**Aufgabe: Geben Sie eine beliebige Funktion für die Kondensatorspannung an und bestimmen Sie den dazugehörigen Strom.**"
   ]
  },
  {
   "cell_type": "markdown",
   "metadata": {},
   "source": [
    "*Tragen Sie hier Ihre Beobachtungen ein.*"
   ]
  },
  {
   "cell_type": "markdown",
   "metadata": {},
   "source": [
    "### Rechteckspannung als Eingang"
   ]
  },
  {
   "cell_type": "code",
   "execution_count": null,
   "metadata": {},
   "outputs": [],
   "source": [
    "t = np.linspace(0,20e-3,1000)\n",
    "tau = 2e-3\n",
    "u1 = .2\n",
    "u2 = 1\n",
    "tp = t[500]\n",
    "u = np.piecewise(t, \n",
    "                 [t <=tp, \n",
    "                  (t>tp)\n",
    "                 ], \n",
    "                 [lambda t: u1+(u2-u1)*(1-np.exp(-t/tau)),\n",
    "                 lambda t: u1+(u2-u1)*np.exp(-(t-tp)/tau)]\n",
    ")\n",
    "utau1 = u1 + (u2-u1)*(1-np.exp(-tau/tau))\n",
    "u3tau1 = u1 + (u2-u1)*(1-np.exp(-3*tau/tau))\n",
    "utau2 = u1 + (u2-u1)*np.exp(-(tau)/tau)\n",
    "u3tau2 = u1 + (u2-u1)*np.exp(-(3*tau)/tau)\n",
    "    \n",
    "plt.figure(figsize=(8,5))\n",
    "plt.plot(1000*t,u,linewidth=2)\n",
    "plt.plot(1000*t,u1*np.ones(len(t)),'k--')\n",
    "plt.plot(1000*t,u2*np.ones(len(t)),'k--')\n",
    "plt.text(0,-.08,'$0$')\n",
    "plt.text(-1,u1,r'$U_1$')\n",
    "plt.text(-1,u2,r'$U_2$')\n",
    "plt.plot(1000*tau*np.ones(1000),np.linspace(0,1.1*u2,1000),'k--')\n",
    "plt.text(900*tau,-.08,r'$\\tau$')\n",
    "plt.plot(3000*tau*np.ones(1000),np.linspace(0,1.1*u2,1000),'k--')\n",
    "plt.text(2900*tau,-.08,r'$3\\tau$')\n",
    "plt.plot(1000*tp*np.ones(1000),np.linspace(0,1.1*u2,1000),'k--')\n",
    "plt.text(1030*tp,.03,r'$t_p$')\n",
    "plt.plot(1000*(tp+tau)*np.ones(1000),np.linspace(0,1.1*u2,1000),'k--')\n",
    "plt.text(1000*tp+900*tau,-.08,r'$t_p+\\tau$')\n",
    "plt.annotate(s='', xy=(1000*tau,u2), xytext=(1000*tau,utau1), arrowprops=dict(arrowstyle='<->'))\n",
    "plt.text(1100*tau,0.9*u2,r'$\\frac{1}{e}\\approx\\frac{1}{3}$')\n",
    "plt.annotate(s='', xy=(2400*tau,u2), xytext=(2400*tau,u1), arrowprops=dict(arrowstyle='<->',color='green'))\n",
    "deltau1str=r\"$\\Delta U=$\"\n",
    "deltau1str+=\"\\n\" \n",
    "deltau1str+=r\"$=U_0 - U_\\infty=$\"\n",
    "deltau1str+=\"\\n\"\n",
    "deltau1str+=\"=$ U_1 - U_2$\"\n",
    "plt.text(2500*tau,2*u1,deltau1str,c='green')\n",
    "plt.annotate(s='', xy=(3000*tau,u3tau1), xytext=(3000*tau,0.8*u3tau1), arrowprops=dict(arrowstyle='->'))\n",
    "plt.annotate(s='', xy=(3000*tau,1.1*u2), xytext=(3000*tau,u2), arrowprops=dict(arrowstyle='<-'))\n",
    "plt.text(3100*tau,1.02*u2,r'$\\approx5\\%$')\n",
    "plt.text(450*tau,1.1*u1,r'$U_0$')\n",
    "plt.text(880*tp,1.02*u2,r'$U_\\infty$')\n",
    "plt.text(1100*tp,1.02*u2,r'$U_0$')\n",
    "plt.annotate(s='', xy=(1000*(tau+tp),utau2), xytext=(1000*(tau+tp),u2), arrowprops=dict(arrowstyle='<->'))\n",
    "plt.text(1000*tp+1100*tau,0.9*u2,r'$1-\\frac{1}{e}\\approx\\frac{2}{3}$')\n",
    "plt.annotate(s='', xy=(1000*tp+2800*tau,u2), xytext=(1000*tp+2800*tau,u1), arrowprops=dict(arrowstyle='<->',color='green'))\n",
    "deltau2str=r\"$\\Delta U=$\"\n",
    "deltau2str+=\"\\n\" \n",
    "deltau2str+=r\"$=U_0 - U_\\infty=$\"\n",
    "deltau2str+=\"\\n\"\n",
    "deltau2str+=\"=$ U_2 - U_1$\"\n",
    "plt.text(1000*tp+2900*tau,2*u1,deltau2str,c='green')\n",
    "plt.xlabel('Zeit $t$')\n",
    "plt.ylabel('Spannung $u_C(t)$')\n",
    "plt.ylim(0,1.2*u2)\n",
    "plt.xticks([])\n",
    "plt.yticks([])\n",
    "plt.grid()\n",
    "\n",
    "plt.tight_layout()"
   ]
  },
  {
   "cell_type": "markdown",
   "metadata": {},
   "source": [
    "**Aufgabe: Bei dieser Graphik, die Sie aus dem Skript kennen, können Sie nun verändern: $\\tau$ und $t_p$ können andere Werte annehmen. Wie müssen Sie $\\tau$ einstellen, damit die Spannung am Kondensator praktisch rechteckförmig wird? Wie müssen Sie sie einstellen, damit $U_2$ nicht erreicht wird am Kondensator?**"
   ]
  },
  {
   "cell_type": "markdown",
   "metadata": {},
   "source": [
    "*Tragen Sie hier Ihre Beobachtungen ein.*"
   ]
  },
  {
   "cell_type": "markdown",
   "metadata": {},
   "source": [
    "**Aufgabe: Übertragen Sie die Abschnitte für das Kondensatorverhalten auf einen neuen Abschnitt, der das Spulenverhalten beschreibt.**"
   ]
  },
  {
   "cell_type": "markdown",
   "metadata": {},
   "source": [
    "*Ergänzen Sie ebenfalls jeweils Ihre Beobachtungen.*"
   ]
  }
 ],
 "metadata": {
  "kernelspec": {
   "display_name": "Python 3",
   "language": "python",
   "name": "python3"
  },
  "language_info": {
   "codemirror_mode": {
    "name": "ipython",
    "version": 3
   },
   "file_extension": ".py",
   "mimetype": "text/x-python",
   "name": "python",
   "nbconvert_exporter": "python",
   "pygments_lexer": "ipython3",
   "version": "3.6.10"
  }
 },
 "nbformat": 4,
 "nbformat_minor": 2
}
